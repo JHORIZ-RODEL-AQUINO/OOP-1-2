{
  "nbformat": 4,
  "nbformat_minor": 0,
  "metadata": {
    "colab": {
      "name": "OOP Concepts 2.ipynb",
      "provenance": [],
      "authorship_tag": "ABX9TyPstd7y1V+cauo6nLkhXZ+4",
      "include_colab_link": true
    },
    "kernelspec": {
      "name": "python3",
      "display_name": "Python 3"
    },
    "language_info": {
      "name": "python"
    }
  },
  "cells": [
    {
      "cell_type": "markdown",
      "metadata": {
        "id": "view-in-github",
        "colab_type": "text"
      },
      "source": [
        "<a href=\"https://colab.research.google.com/github/JHORIZ-RODEL-AQUINO/OOP-1-2/blob/main/OOP_Concepts_2.ipynb\" target=\"_parent\"><img src=\"https://colab.research.google.com/assets/colab-badge.svg\" alt=\"Open In Colab\"/></a>"
      ]
    },
    {
      "cell_type": "markdown",
      "source": [
        "Classes with Multiple Objects"
      ],
      "metadata": {
        "id": "IrnBYH48VJ__"
      }
    },
    {
      "cell_type": "code",
      "source": [
        "class Birds:\n",
        "  def __init__(self, bird_name):\n",
        "    self.bird_name = bird_name\n",
        "\n",
        "  def flying_birds(self):\n",
        "    print(f\"{self.bird_name} flies above the sky\")\n",
        "\n",
        "  def non_flying_birds(self):\n",
        "    orint(f\"{self.bird_name} is the national bird of the Philippines\")\n",
        "\n",
        "\n",
        "vulture = Birds(\"Griffin Vulture\")\n",
        "crane = Birds(\"Common Crane\")\n",
        "emu = Birds(\"Emu\")\n",
        "\n",
        "\n",
        "vulture.flying_birds()\n",
        "crane.flying_birds()\n",
        "emu.flying_birds()"
      ],
      "metadata": {
        "colab": {
          "base_uri": "https://localhost:8080/"
        },
        "id": "PQn09fLWVfi8",
        "outputId": "4ecba913-ca10-4a5c-ce73-963fdf9e725f"
      },
      "execution_count": null,
      "outputs": [
        {
          "output_type": "stream",
          "name": "stdout",
          "text": [
            "Griffin Vulture flies above the sky\n",
            "Common Crane flies above the sky\n",
            "Emu flies above the sky\n"
          ]
        }
      ]
    },
    {
      "cell_type": "markdown",
      "source": [
        "Encapsulation"
      ],
      "metadata": {
        "id": "_lvMxlI_XcS3"
      }
    },
    {
      "cell_type": "code",
      "source": [
        "class foo:\n",
        "  def __init__(self, a, b):\n",
        "    self.__a = a\n",
        "    self.__b = b\n",
        "\n",
        "  def add(self):\n",
        "    return self.__a + self.__b\n",
        "\n",
        "  \n",
        "number = foo(3, 4)\n",
        "number.add()\n",
        "\n",
        "number.a = 7  # 7, 4  7 + 4 = 11\n",
        "number.add()"
      ],
      "metadata": {
        "colab": {
          "base_uri": "https://localhost:8080/"
        },
        "id": "YqzTqPN1XgCb",
        "outputId": "cf433a46-edda-45cb-9504-9c032c9ea905"
      },
      "execution_count": null,
      "outputs": [
        {
          "output_type": "execute_result",
          "data": {
            "text/plain": [
              "7"
            ]
          },
          "metadata": {},
          "execution_count": 20
        }
      ]
    },
    {
      "cell_type": "markdown",
      "source": [
        "Encapsulation with Private Attributes"
      ],
      "metadata": {
        "id": "YlM8rcsSZpOg"
      }
    },
    {
      "cell_type": "code",
      "source": [
        "class Counter:\n",
        "  def __init__(self):\n",
        "    self.__current = 0\n",
        "\n",
        "  def increment(self):\n",
        "    self.__current += 1\n",
        "\n",
        "  def value(self):\n",
        "    return self.__current\n",
        "\n",
        "  def reset(self):\n",
        "    self.__current = 0\n",
        "\n",
        "\n",
        "num = Counter()\n",
        "num.increment()  # counter = counter + 1\n",
        "num.increment()\n",
        "num.increment()\n",
        "\n",
        "print(num.value())"
      ],
      "metadata": {
        "colab": {
          "base_uri": "https://localhost:8080/"
        },
        "id": "Opv7YVWyZt_z",
        "outputId": "f2ba7e5e-18bf-4b1b-8b3b-121aa467b2c7"
      },
      "execution_count": null,
      "outputs": [
        {
          "output_type": "stream",
          "name": "stdout",
          "text": [
            "3\n"
          ]
        }
      ]
    },
    {
      "cell_type": "markdown",
      "source": [
        "Inheritance"
      ],
      "metadata": {
        "id": "UFg6G84UdLL2"
      }
    },
    {
      "cell_type": "code",
      "source": [
        "class Person:\n",
        "  def __init__(self, firstname, surname):\n",
        "    self.firstname = firstname\n",
        "    self.surname = surname\n",
        "\n",
        "  def printname(self):\n",
        "    print(self.firstname, self.surname)\n",
        "\n",
        "person = Person(\"Ana\", \"Santon\")\n",
        "person.printname()\n",
        "\n",
        "\n",
        "\n",
        "class Teacher(Person):\n",
        "  pass\n",
        "\n",
        "person2 = Teacher(\"Maria\", \"Sayo\")\n",
        "person2.printname()\n",
        "\n",
        "\n",
        "\n",
        "class Student(Person):\n",
        "  pass\n",
        "\n",
        "person3 = Student(\"Jhoriz\", \"Aquino\")\n",
        "person3.printname()\n",
        "\n",
        "\n"
      ],
      "metadata": {
        "colab": {
          "base_uri": "https://localhost:8080/"
        },
        "id": "Ij-pVXDKdP89",
        "outputId": "8113910f-b15d-471b-d1aa-e0d926d18e34"
      },
      "execution_count": null,
      "outputs": [
        {
          "output_type": "stream",
          "name": "stdout",
          "text": [
            "Ana Santon\n",
            "Maria Sayo\n",
            "Jhoriz Aquino\n"
          ]
        }
      ]
    },
    {
      "cell_type": "markdown",
      "source": [
        "Polymorphism"
      ],
      "metadata": {
        "id": "MzqZ09dxf6NE"
      }
    },
    {
      "cell_type": "code",
      "source": [
        "class RegularPolygon:\n",
        "    def __init__(self,side):\n",
        "        self.side = side\n",
        "\n",
        "class Square(RegularPolygon):\n",
        "    def area(self):\n",
        "        return self.side * self.side\n",
        "\n",
        "class EquilateralTriangle(RegularPolygon):\n",
        "    def area(self):\n",
        "        return self.side * self.side * 0.433\n",
        "\n",
        "\n",
        "object = Square(4)\n",
        "print(object.area())\n",
        "\n",
        "object2 = EquilateralTriangle(3)\n",
        "print(object2.area())"
      ],
      "metadata": {
        "colab": {
          "base_uri": "https://localhost:8080/"
        },
        "id": "atqZJGYJf95U",
        "outputId": "b77027dc-83b3-452f-d2dd-d9a3d80697ee"
      },
      "execution_count": null,
      "outputs": [
        {
          "output_type": "stream",
          "name": "stdout",
          "text": [
            "16\n",
            "3.897\n"
          ]
        }
      ]
    },
    {
      "cell_type": "markdown",
      "source": [
        "Activty 3\n",
        "\n",
        "Instruction:\n",
        "\n",
        "1. Create a Python program that displays the name of three students (Student 1,\n",
        "Student 2, and Student 3) and their term grades\n",
        "2. Create a class name Person and attributes – std1, std2, std2, pre, mid, fin\n",
        "3. Compute the average of each term grade using Grade() method\n",
        "4. Information about student’s grades must be hidden from others\n",
        "5. Save your python program named as “OOP Concepts 2” to your GitHub\n",
        "repository “OOP 1-2”\n",
        "6. Share your GitHub link attached with this manuscript."
      ],
      "metadata": {
        "id": "AUPDnKYLTHW3"
      }
    },
    {
      "cell_type": "code",
      "source": [
        "class Person:\n",
        "  def __init__(self, name, pre, mid, fin):\n",
        "    self.__name = name\n",
        "    self.__pre = pre\n",
        "    self.__mid = mid\n",
        "    self.__fin = fin\n",
        "\n",
        "  def Grade(self):\n",
        "    return round(((self.__pre + self.__mid + self.__fin) / 3), 2)\n",
        "\n",
        "\n",
        "class Student(Person):\n",
        "  def __init__(self, name, std_num, pre, mid, fin):  \n",
        "    # Since I cannot inherit all the private attributes from the parent class, \n",
        "    # I have to initialize new attributes again, but with additional ones.\n",
        "\n",
        "    # The reason here is that private attributes are only accessible inside a parent/base class.\n",
        "    # We can only iinherit public and protected attributes, but we don't want to make them public.\n",
        "    # We also don't want to make them protected (self._attribute) because we can still access\n",
        "    # them outside the class, and we don't want to do that: grades are confidential. \n",
        "\n",
        "    # Overall, inheritance and private attributes do not coexist with each other (except for public and protected). \n",
        "\n",
        "    self.__name = name\n",
        "    self.__std_num = std_num\n",
        "    self.__section = \"BSCpE 1-2\"\n",
        "    self.__pre = pre\n",
        "    self.__mid = mid\n",
        "    self.__fin = fin\n",
        "    self.__grade = None\n",
        "\n",
        "\n",
        "  # Grade() method is already inherited.\n",
        "  # But, the inherited method will only look for inherited attributes (self.__pre, __mid, __fin).\n",
        "  # Since we don't have inherited attributes (because they are private),\n",
        "  # hence, the Grade() method will prompt an error\n",
        "\n",
        "  # To resolve this, we will override and redefine the Grade() method.\n",
        "\n",
        "  def Grade(self):\n",
        "    # In this case, we would want to add a little privacy, we will apply polymorphism.\n",
        "    # We will remove the return function since we don't want the user to print or get the return value of the grade.\n",
        "    # We don't want them to access it, grades must only be accessible when student number is provided.\n",
        "    # We will now use the __grade attribute we initialized before to store the computed semestral ave/grade.\n",
        "\n",
        "    self.__grade = round(((self.__pre + self.__mid + self.__fin) / 3), 2)\n",
        "\n",
        "\n",
        "  def Display(self, std_num):\n",
        "    if std_num == self.__std_num:\n",
        "      self.Grade()\n",
        "      print(f\"Name: {self.__name}\")\n",
        "      print(f\"Section: {self.__section}\")\n",
        "      print(f\"\\nSemestral Grade: {self.__grade}\")\n",
        "      return True\n",
        "    else: \n",
        "      return False\n",
        "\n",
        "\"-----------------------------------------------------------------------------------------------------------------------------------\"\n",
        "\n",
        "# Instantiating class\n",
        "\n",
        "std1 = Student(input(f\"\\nEnter student's info \\nName: \"), \n",
        "               int(input(\"Student Number: \")), \n",
        "               int(input(\"Prelim Grade: \")), \n",
        "               int(input(\"Midterm Grade: \")), \n",
        "               int(input(\"Final Grade: \")))\n",
        "\n",
        "std2 = Student(input(f\"\\nEnter student's info \\nName: \"), \n",
        "               int(input(\"Student Number: \")), \n",
        "               int(input(\"Prelim Grade: \")), \n",
        "               int(input(\"Midterm Grade: \")), \n",
        "               int(input(\"Final Grade: \")))\n",
        "\n",
        "std3 = Student(input(f\"\\nEnter student's info \\nName: \"), \n",
        "               int(input(\"Student Number: \")), \n",
        "               int(input(\"Prelim Grade: \")), \n",
        "               int(input(\"Midterm Grade: \")), \n",
        "               int(input(\"Final Grade: \")))\n",
        "\n",
        "\"-----------------------------------------------------------------------------------------------------------------------------------\"\n",
        "\n",
        "# Setting up code for Display() method\n",
        "\n",
        "while True:\n",
        "  std_n = input(\"\\n\\nEnter your student number to view your semestral grade: \")\n",
        "  \n",
        "  if std_n.lower() == \"quit\":\n",
        "    break\n",
        "\n",
        "  class_ = [std1, std2, std3]\n",
        "  for student in class_:\n",
        "    if student.Display(int(std_n)):\n",
        "      break\n",
        "  else:\n",
        "    print(\"Sorry, this student number doesn't exist.\")\n"
      ],
      "metadata": {
        "colab": {
          "base_uri": "https://localhost:8080/"
        },
        "id": "wdX_2SaPTPxr",
        "outputId": "a86eec05-bf84-4f38-ece6-90416e3527fd"
      },
      "execution_count": 1,
      "outputs": [
        {
          "name": "stdout",
          "output_type": "stream",
          "text": [
            "\n",
            "Enter student's info \n",
            "Name: Sova\n",
            "Student Number: 2022201\n",
            "Prelim Grade: 89\n",
            "Midterm Grade: 92\n",
            "Final Grade: 94\n",
            "\n",
            "Enter student's info \n",
            "Name: Irelia\n",
            "Student Number: 2022987\n",
            "Prelim Grade: 94\n",
            "Midterm Grade: 96\n",
            "Final Grade: 95\n",
            "\n",
            "Enter student's info \n",
            "Name: Diana\n",
            "Student Number: 2022123\n",
            "Prelim Grade: 78\n",
            "Midterm Grade: 84\n",
            "Final Grade: 80\n",
            "\n",
            "\n",
            "Enter your student number to view your semestral grade: 2022987\n",
            "Name: Irelia\n",
            "Section: BSCpE 1-2\n",
            "\n",
            "Semestral Grade: 95.0\n",
            "\n",
            "\n",
            "Enter your student number to view your semestral grade: 2022201\n",
            "Name: Sova\n",
            "Section: BSCpE 1-2\n",
            "\n",
            "Semestral Grade: 91.67\n",
            "\n",
            "\n",
            "Enter your student number to view your semestral grade: 2022456\n",
            "Sorry, this student number doesn't exist.\n",
            "\n",
            "\n",
            "Enter your student number to view your semestral grade: 2022178\n",
            "Sorry, this student number doesn't exist.\n",
            "\n",
            "\n",
            "Enter your student number to view your semestral grade: 2022123\n",
            "Name: Diana\n",
            "Section: BSCpE 1-2\n",
            "\n",
            "Semestral Grade: 80.67\n",
            "\n",
            "\n",
            "Enter your student number to view your semestral grade: quit\n"
          ]
        }
      ]
    }
  ]
}