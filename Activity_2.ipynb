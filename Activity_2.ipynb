{
  "nbformat": 4,
  "nbformat_minor": 0,
  "metadata": {
    "colab": {
      "name": "Activity 2.ipynb",
      "provenance": [],
      "authorship_tag": "ABX9TyMdu0zUXmMb61SBJy2LksAF",
      "include_colab_link": true
    },
    "kernelspec": {
      "name": "python3",
      "display_name": "Python 3"
    },
    "language_info": {
      "name": "python"
    }
  },
  "cells": [
    {
      "cell_type": "markdown",
      "metadata": {
        "id": "view-in-github",
        "colab_type": "text"
      },
      "source": [
        "<a href=\"https://colab.research.google.com/github/JHORIZ-RODEL-AQUINO/OOP-1-2/blob/main/Activity_2.ipynb\" target=\"_parent\"><img src=\"https://colab.research.google.com/assets/colab-badge.svg\" alt=\"Open In Colab\"/></a>"
      ]
    },
    {
      "cell_type": "markdown",
      "source": [
        "Activity 2 / Assignment 2 - Area and Perimeter of Circle"
      ],
      "metadata": {
        "id": "FcRPR6ReIjrd"
      }
    },
    {
      "cell_type": "code",
      "execution_count": 14,
      "metadata": {
        "colab": {
          "base_uri": "https://localhost:8080/"
        },
        "id": "qUppiaOuCbCR",
        "outputId": "f5c4a141-e328-46f9-941c-6cafd048478f"
      },
      "outputs": [
        {
          "output_type": "stream",
          "name": "stdout",
          "text": [
            "circle 1 area:  78.54\n",
            "circle 2 area:  452.39\n",
            "circle 3 area:  10207.03\n",
            "\n",
            "circle 1 perimeter:  31.42\n",
            "circle 2 perimeter:  75.4\n",
            "circle 3 perimeter:  358.14\n"
          ]
        }
      ],
      "source": [
        "from math import pi\n",
        "\n",
        "class Circle:\n",
        "  def __init__(self, radius, name):\n",
        "    self.radius = radius\n",
        "    self.name = name\n",
        "\n",
        "  def Area(self):\n",
        "    return round(pi * (self.radius ** 2), 2)\n",
        "\n",
        "  def Perimeter(self):\n",
        "    return round(2 * pi * self.radius, 2)\n",
        "\n",
        "  def Display_Area(self):\n",
        "    print(self.name + \" area: \", self.Area())\n",
        "\n",
        "  def Display_Perimeter(self):\n",
        "    print(self.name + \" perimeter: \", self.Perimeter())\n",
        "\n",
        "\n",
        "\n",
        "c1 = Circle(5, \"circle 1\")\n",
        "c2 = Circle(12, \"circle 2\")\n",
        "c3 = Circle(57, \"circle 3\")\n",
        "\n",
        "c1.Display_Area()\n",
        "c2.Display_Area()\n",
        "c3.Display_Area()\n",
        "\n",
        "print()  # just a blanked line separator\n",
        "\n",
        "c1.Display_Perimeter()\n",
        "c2.Display_Perimeter()\n",
        "c3.Display_Perimeter()\n",
        "\n"
      ]
    },
    {
      "cell_type": "markdown",
      "source": [
        "Class Temperature"
      ],
      "metadata": {
        "id": "0YYOaP7PLHqT"
      }
    },
    {
      "cell_type": "code",
      "source": [
        "# Write a python program that converts the temperature Celsius to Fahrenheit. Create a class name Temperature.\n",
        "# Create a Celsius as attribute name, Temp() as method, and temp1 as an object name. F = 1.8xC + 32\n",
        "\n",
        "class Temperature:\n",
        "  def __init__(self, Celsius):\n",
        "    self.Celsius = Celsius\n",
        "\n",
        "  def Temp(self):\n",
        "    return self.Celsius * 1.8 + 32\n",
        "\n",
        "temp1 = Temperature(float(input(\"Celsius: \")))\n",
        "print(round(temp1.Temp(), 3))"
      ],
      "metadata": {
        "colab": {
          "base_uri": "https://localhost:8080/"
        },
        "id": "zzVXnbvDLIDR",
        "outputId": "c3e927ce-346f-4c97-db1d-ae6d899c7629"
      },
      "execution_count": 13,
      "outputs": [
        {
          "output_type": "stream",
          "name": "stdout",
          "text": [
            "Celsius: 30\n",
            "86.0\n"
          ]
        }
      ]
    }
  ]
}